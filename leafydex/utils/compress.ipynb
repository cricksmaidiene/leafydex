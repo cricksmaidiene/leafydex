{
 "cells": [
  {
   "cell_type": "markdown",
   "id": "bfdfb3d0-3eef-4d53-b422-6bcf94d9bc7a",
   "metadata": {},
   "source": [
    "# Compress Images 🗜\n",
    "\n",
    "This utlility notebook takes all high-res plant leaves photos from the source directory, compresses them and then writes them to a new directory. Both source and destination directory have the exact same paths and filenames. Any compression setting can be used to write a new directory of compressed images. \n",
    "\n",
    "<details open>\n",
    "<summary> Benchmark </summary>\n",
    "    \n",
    "<pre><code class=\"lang-yaml\"><span class=\"hljs-symbol\">Benchmark:</span> <span class=\"hljs-number\">4</span> vCPUs, <span class=\"hljs-number\">16</span> GB vRAM Amazon EC2 Linux\n",
    "Run <span class=\"hljs-number\">1</span>:\n",
    "<span class=\"hljs-symbol\">    Photos:</span> ~ <span class=\"hljs-number\">4</span>,<span class=\"hljs-number\">500</span>\n",
    "<span class=\"hljs-symbol\">    Time:</span> ~ <span class=\"hljs-number\">6</span> mins\n",
    "<span class=\"hljs-symbol\">    Threads:</span> <span class=\"hljs-number\">10</span>\n",
    "\n",
    "Run <span class=\"hljs-number\">2</span>:\n",
    "<span class=\"hljs-symbol\">    Photos:</span> ~ <span class=\"hljs-number\">4</span>,<span class=\"hljs-number\">500</span>\n",
    "<span class=\"hljs-symbol\">    Time:</span> ~ <span class=\"hljs-number\">5</span> mins\n",
    "<span class=\"hljs-symbol\">    Threads:</span> <span class=\"hljs-number\">20</span>\n",
    "</code></pre>\n",
    "\n",
    "</details>"
   ]
  },
  {
   "cell_type": "markdown",
   "id": "60412c65-a344-4a8d-b971-64ef70855306",
   "metadata": {},
   "source": [
    "Import necessary libraries"
   ]
  },
  {
   "cell_type": "code",
   "execution_count": 1,
   "id": "4257ca32-dc5e-4a93-ba92-2a2c74aa23e1",
   "metadata": {},
   "outputs": [
    {
     "name": "stderr",
     "output_type": "stream",
     "text": [
      "/tmp/ipykernel_18049/2744342392.py:10: TqdmWarning: IProgress not found. Please update jupyter and ipywidgets. See https://ipywidgets.readthedocs.io/en/stable/user_install.html\n",
      "  from tqdm.autonotebook import tqdm\n"
     ]
    }
   ],
   "source": [
    "import os\n",
    "import pathlib\n",
    "import shutil\n",
    "import sys\n",
    "from concurrent.futures import ThreadPoolExecutor\n",
    "\n",
    "from PIL import Image\n",
    "from tqdm.autonotebook import tqdm\n",
    "\n",
    "tqdm.pandas()"
   ]
  },
  {
   "cell_type": "markdown",
   "id": "ddc8c3d7-d25c-4413-99fc-a1d7e4ae0492",
   "metadata": {},
   "source": [
    "Create OS-agnostic paths"
   ]
  },
  {
   "cell_type": "code",
   "execution_count": 2,
   "id": "088f935a-2161-4bb0-b0ae-77c0d7b51ba3",
   "metadata": {},
   "outputs": [],
   "source": [
    "HD_IMG_DIR: str = \"Plants_2\"\n",
    "CMP_IMG_DIR: str = \"Plants_2_compressed\"\n",
    "COMPRESS_SIZE: tuple[int, int] = (200, 200)\n",
    "\n",
    "# store the filepath address of the current file\n",
    "__file__: str = os.path.abspath(\"\")\n",
    "\n",
    "ROOT_DIR_PATH: str = os.path.join(pathlib.Path(__file__).parent.parent)\n",
    "HD_IMG_DIR_PATH: str = os.path.join(ROOT_DIR_PATH, \"data\", HD_IMG_DIR)\n",
    "CMP_IMG_DIR_PATH: str = os.path.join(ROOT_DIR_PATH, \"data\", CMP_IMG_DIR)"
   ]
  },
  {
   "cell_type": "markdown",
   "id": "43ffba3e-1231-47d7-8ca7-e7e596e6c90a",
   "metadata": {},
   "source": [
    "Create commpressed image directory"
   ]
  },
  {
   "cell_type": "code",
   "execution_count": 11,
   "id": "d7841a5f-77d4-4b3a-a5cf-ac22ee4d5f5c",
   "metadata": {},
   "outputs": [],
   "source": [
    "# delete compressed root directory if exists\n",
    "if os.path.exists(CMP_IMG_DIR_PATH) and os.path.isdir(CMP_IMG_DIR_PATH):\n",
    "    shutil.rmtree(CMP_IMG_DIR_PATH)\n",
    "\n",
    "os.makedirs(CMP_IMG_DIR_PATH)"
   ]
  },
  {
   "cell_type": "markdown",
   "id": "a7454f26-15c5-4d95-ab5f-71bca830a312",
   "metadata": {},
   "source": [
    "Create a hashmap of source directory files to destination directory files. Create all required destination directories"
   ]
  },
  {
   "cell_type": "code",
   "execution_count": 12,
   "id": "c5800a4a-ef4d-44ac-81e2-dcc0e596fc28",
   "metadata": {},
   "outputs": [],
   "source": [
    "image_compress_map: dict[str, str] = {}\n",
    "\n",
    "# do a depth-first-search based walk through the directory tree\n",
    "for path, directories, files in os.walk(HD_IMG_DIR_PATH):\n",
    "\n",
    "    # if leaf nodes are detected\n",
    "    if files:\n",
    "\n",
    "        # iterate through each file\n",
    "        for img_file in files:\n",
    "\n",
    "            # get hd and compressed file paths\n",
    "            hd_file_abs_path: str = os.path.join(path, img_file)\n",
    "            cmp_file_abs_path: str = hd_file_abs_path.replace(HD_IMG_DIR, CMP_IMG_DIR)\n",
    "\n",
    "            # create directory path\n",
    "            cmp_folder_abs_path: str = os.path.dirname(cmp_file_abs_path)\n",
    "            # create compressed subdirectory (idempotent)\n",
    "            os.makedirs(cmp_folder_abs_path, exist_ok=True)\n",
    "\n",
    "            # add hd to compressed file mapping\n",
    "            image_compress_map[hd_file_abs_path] = cmp_file_abs_path"
   ]
  },
  {
   "cell_type": "markdown",
   "id": "d66365ac-38cc-4d7e-9c29-00af6dd5a2ac",
   "metadata": {},
   "source": [
    "Concurrently write multiple images after compressing to destination"
   ]
  },
  {
   "cell_type": "code",
   "execution_count": 13,
   "id": "7ac4e93d-cb19-4c0c-a882-8102bdf1528c",
   "metadata": {},
   "outputs": [
    {
     "name": "stderr",
     "output_type": "stream",
     "text": [
      "100%|██████████| 4502/4502 [05:00<00:00, 19.84it/s]"
     ]
    }
   ],
   "source": [
    "# create a tuple version of image compress mapping dictionary for function argument passing\n",
    "image_compress_map_tuples: list[tuple[str, str]] = [\n",
    "    (k, v) for k, v in image_compress_map.items()\n",
    "]\n",
    "\n",
    "# create a progress bar to track progress across threads\n",
    "progress_bar = tqdm(total=len(image_compress_map.keys()), position=0, leave=True)\n",
    "\n",
    "# thread-safe function\n",
    "def compress_image(source_path: str, destination_path: str):\n",
    "    hd_img: Image.Image = Image.open(source_path)\n",
    "    cmp_img: Image.Image = hd_img.resize(COMPRESS_SIZE)\n",
    "    cmp_img.save(destination_path, \"JPEG\", quality=100)\n",
    "    progress_bar.update(1)\n",
    "\n",
    "\n",
    "# concurrently compress multiple images and save them\n",
    "with ThreadPoolExecutor(max_workers=10) as executor:\n",
    "    executor.map(\n",
    "        lambda path_tuple: compress_image(*path_tuple), image_compress_map_tuples\n",
    "    )"
   ]
  },
  {
   "cell_type": "code",
   "execution_count": null,
   "id": "be80ee12-cc17-4918-994d-78a6255dda84",
   "metadata": {},
   "outputs": [],
   "source": []
  }
 ],
 "metadata": {
  "kernelspec": {
   "display_name": "project_207",
   "language": "python",
   "name": "project_207"
  },
  "language_info": {
   "codemirror_mode": {
    "name": "ipython",
    "version": 3
   },
   "file_extension": ".py",
   "mimetype": "text/x-python",
   "name": "python",
   "nbconvert_exporter": "python",
   "pygments_lexer": "ipython3",
   "version": "3.10.6"
  }
 },
 "nbformat": 4,
 "nbformat_minor": 5
}
