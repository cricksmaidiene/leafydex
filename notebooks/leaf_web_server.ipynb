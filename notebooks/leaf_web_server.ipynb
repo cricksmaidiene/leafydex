{
 "cells": [
  {
   "cell_type": "markdown",
   "id": "73b240cd",
   "metadata": {},
   "source": [
    "### Leafydex Web Server Module"
   ]
  },
  {
   "cell_type": "code",
   "execution_count": 1,
   "id": "7c0a8146",
   "metadata": {},
   "outputs": [],
   "source": [
    "import os\n",
    "import pathlib\n",
    "import random\n",
    "\n",
    "import cv2\n",
    "import matplotlib.image as img\n",
    "import matplotlib.pyplot as plt\n",
    "import numpy as np\n",
    "import pandas as pd\n",
    "import tensorflow as tf\n",
    "from keras import layers, metrics, models\n",
    "from PIL import Image\n",
    "from sklearn import utils\n",
    "from tensorflow import keras\n",
    "from tensorflow.keras.preprocessing.image import (ImageDataGenerator,\n",
    "                                                  array_to_img, img_to_array,\n",
    "                                                  load_img)\n",
    "\n",
    "import flask\n",
    "import werkzeug\n",
    "import json\n",
    "\n",
    "%matplotlib inline"
   ]
  },
  {
   "cell_type": "code",
   "execution_count": 2,
   "id": "95e4fc9d",
   "metadata": {},
   "outputs": [],
   "source": [
    "__file__: str = os.path.abspath('D:\\\\MIDS\\\\W207\\\\Project')\n",
    "model_name = \"my_model\"\n",
    "\n",
    "#ROOT_DIR_PATH: str = os.path.join(pathlib.Path(__file__).parent.parent)\n",
    "ROOT_DIR_PATH: str = os.path.join(pathlib.Path(__file__))\n",
    "MODEL_DIR_PATH: str = os.path.join(ROOT_DIR_PATH,\"model\")\n",
    "MODEL: str = os.path.join(MODEL_DIR_PATH,\"my_model\")\n"
   ]
  },
  {
   "cell_type": "code",
   "execution_count": 3,
   "id": "39c5b88f",
   "metadata": {},
   "outputs": [],
   "source": [
    "# Load Saved Model\n",
    "model = tf.keras.models.load_model (MODEL)"
   ]
  },
  {
   "cell_type": "code",
   "execution_count": 4,
   "id": "0e6648a6",
   "metadata": {},
   "outputs": [
    {
     "name": "stdout",
     "output_type": "stream",
     "text": [
      "Model: \"sequential\"\n",
      "_________________________________________________________________\n",
      " Layer (type)                Output Shape              Param #   \n",
      "=================================================================\n",
      " conv_1 (Conv2D)             (None, 128, 128, 32)      2432      \n",
      "                                                                 \n",
      " pool_1 (MaxPooling2D)       (None, 64, 64, 32)        0         \n",
      "                                                                 \n",
      " conv_2 (Conv2D)             (None, 32, 32, 64)        51264     \n",
      "                                                                 \n",
      " pool_2 (MaxPooling2D)       (None, 16, 16, 64)        0         \n",
      "                                                                 \n",
      " dropout (Dropout)           (None, 16, 16, 64)        0         \n",
      "                                                                 \n",
      " conv_3 (Conv2D)             (None, 8, 8, 128)         204928    \n",
      "                                                                 \n",
      " pool_3 (MaxPooling2D)       (None, 4, 4, 128)         0         \n",
      "                                                                 \n",
      " flatten (Flatten)           (None, 2048)              0         \n",
      "                                                                 \n",
      " fc_1 (Dense)                (None, 1024)              2098176   \n",
      "                                                                 \n",
      " dropout_1 (Dropout)         (None, 1024)              0         \n",
      "                                                                 \n",
      " fc_2 (Dense)                (None, 1)                 1025      \n",
      "                                                                 \n",
      "=================================================================\n",
      "Total params: 2,357,825\n",
      "Trainable params: 2,357,825\n",
      "Non-trainable params: 0\n",
      "_________________________________________________________________\n"
     ]
    }
   ],
   "source": [
    "# unit test\n",
    "#model.summary()"
   ]
  },
  {
   "cell_type": "markdown",
   "id": "d9995d57",
   "metadata": {},
   "source": [
    "### Create API endpoints and server loop"
   ]
  },
  {
   "cell_type": "code",
   "execution_count": 5,
   "id": "a17b98d7",
   "metadata": {},
   "outputs": [],
   "source": [
    "def file_process(name,label):\n",
    "    IMAGE_SIZE = (256, 256)\n",
    "    \n",
    "    im: np.ndarray = cv2.imread(name, 1)\n",
    "    plt.imshow(im)\n",
    "    \n",
    "    image_test: list[np.ndarray] = []\n",
    "    image_test.append(im)\n",
    "    image_test = tf.image.resize(image_test, size=IMAGE_SIZE)\n",
    "    image_test = image_test / 255.0\n",
    "\n",
    "    Y_test: np.ndarray = np.zeros( 1 )\n",
    "    Y_test[0] = label\n",
    "    YT = np.array(Y_test)\n",
    "\n",
    "    acc = model.evaluate(x=image_test, y=YT) \n",
    "    return(\"Test Accuracy is \" + str(acc[1]*100))\n",
    "    #print(acc[1])"
   ]
  },
  {
   "cell_type": "code",
   "execution_count": 6,
   "id": "47f1311d",
   "metadata": {},
   "outputs": [],
   "source": [
    "app = flask.Flask(__name__,\n",
    "                  static_url_path=\"\")\n",
    "\n",
    "@app.route(\"/\")\n",
    "def landing_page():\n",
    "    return 'Leafydex: We beleaf in your disease'\n",
    "\n",
    "@app.route(\"/summary\")\n",
    "def summary():\n",
    "    return (str(json_model))\n",
    "\n",
    "@app.route(\"/evaluate\")\n",
    "def evaluate_model():\n",
    "    # Do Something\n",
    "    #s = model.summary()\n",
    "    name = flask.request.args.get('name')\n",
    "    label = flask.request.args.get('label')\n",
    "    \n",
    "    file_name = os.path.join(MODEL_DIR_PATH,name)\n",
    "    s = file_process(file_name,label)\n",
    "    \n",
    "    return(str(s))\n",
    "    \n"
   ]
  },
  {
   "cell_type": "code",
   "execution_count": null,
   "id": "722d551f",
   "metadata": {},
   "outputs": [
    {
     "name": "stderr",
     "output_type": "stream",
     "text": [
      " * Running on all addresses.\n",
      "   WARNING: This is a development server. Do not use it in a production deployment.\n",
      " * Running on http://192.168.0.126:8081/ (Press CTRL+C to quit)\n"
     ]
    },
    {
     "name": "stdout",
     "output_type": "stream",
     "text": [
      "1/1 [==============================] - 0s 161ms/step - loss: 0.6842 - accuracy: 1.0000\n"
     ]
    },
    {
     "name": "stderr",
     "output_type": "stream",
     "text": [
      "192.168.0.126 - - [08/Dec/2022 12:34:28] \"GET /evaluate?name=0005_0002.jpg&label=0 HTTP/1.1\" 200 -\n"
     ]
    },
    {
     "name": "stdout",
     "output_type": "stream",
     "text": [
      "1/1 [==============================] - 0s 21ms/step - loss: 0.7021 - accuracy: 0.0000e+00\n"
     ]
    },
    {
     "name": "stderr",
     "output_type": "stream",
     "text": [
      "192.168.0.126 - - [08/Dec/2022 13:04:17] \"GET /evaluate?name=0005_0002.jpg&label=1 HTTP/1.1\" 200 -\n"
     ]
    },
    {
     "name": "stdout",
     "output_type": "stream",
     "text": [
      "1/1 [==============================] - 0s 19ms/step - loss: 0.6842 - accuracy: 1.0000\n"
     ]
    },
    {
     "name": "stderr",
     "output_type": "stream",
     "text": [
      "192.168.0.126 - - [08/Dec/2022 13:12:30] \"GET /evaluate?name=0005_0002.jpg&label=0 HTTP/1.1\" 200 -\n"
     ]
    },
    {
     "name": "stdout",
     "output_type": "stream",
     "text": [
      "1/1 [==============================] - 0s 23ms/step - loss: 0.6842 - accuracy: 1.0000\n"
     ]
    },
    {
     "name": "stderr",
     "output_type": "stream",
     "text": [
      "192.168.0.126 - - [08/Dec/2022 21:07:37] \"GET /evaluate?name=0005_0002.jpg&label=0 HTTP/1.1\" 200 -\n"
     ]
    },
    {
     "name": "stdout",
     "output_type": "stream",
     "text": [
      "1/1 [==============================] - 0s 22ms/step - loss: 4.5208e-04 - accuracy: 1.0000\n"
     ]
    },
    {
     "name": "stderr",
     "output_type": "stream",
     "text": [
      "192.168.0.126 - - [08/Dec/2022 22:07:41] \"GET /evaluate?name=IMG_8021.jpg&label=0 HTTP/1.1\" 200 -\n"
     ]
    },
    {
     "name": "stdout",
     "output_type": "stream",
     "text": [
      "1/1 [==============================] - 0s 4ms/step - loss: 12.7291 - accuracy: 0.0000e+00\n"
     ]
    },
    {
     "name": "stderr",
     "output_type": "stream",
     "text": [
      "192.168.0.126 - - [08/Dec/2022 22:08:02] \"GET /evaluate?name=IMG_8031.jpg&label=1 HTTP/1.1\" 200 -\n"
     ]
    },
    {
     "name": "stdout",
     "output_type": "stream",
     "text": [
      "1/1 [==============================] - 0s 17ms/step - loss: 32.9619 - accuracy: 0.0000e+00\n"
     ]
    },
    {
     "name": "stderr",
     "output_type": "stream",
     "text": [
      "192.168.0.126 - - [08/Dec/2022 22:08:20] \"GET /evaluate?name=IMG_8035.jpg&label=1 HTTP/1.1\" 200 -\n"
     ]
    },
    {
     "name": "stdout",
     "output_type": "stream",
     "text": [
      "1/1 [==============================] - 0s 19ms/step - loss: 1.8523 - accuracy: 0.0000e+00\n"
     ]
    },
    {
     "name": "stderr",
     "output_type": "stream",
     "text": [
      "192.168.0.126 - - [08/Dec/2022 22:08:42] \"GET /evaluate?name=IMG_8034.jpg&label=0 HTTP/1.1\" 200 -\n"
     ]
    },
    {
     "name": "stdout",
     "output_type": "stream",
     "text": [
      "1/1 [==============================] - 0s 17ms/step - loss: 1.6748e-14 - accuracy: 1.0000\n"
     ]
    },
    {
     "name": "stderr",
     "output_type": "stream",
     "text": [
      "192.168.0.126 - - [08/Dec/2022 22:09:10] \"GET /evaluate?name=IMG_1.jpg&label=0 HTTP/1.1\" 200 -\n"
     ]
    },
    {
     "name": "stdout",
     "output_type": "stream",
     "text": [
      "1/1 [==============================] - 0s 31ms/step - loss: 12.6288 - accuracy: 0.0000e+00\n"
     ]
    },
    {
     "name": "stderr",
     "output_type": "stream",
     "text": [
      "192.168.0.126 - - [08/Dec/2022 22:10:21] \"GET /evaluate?name=IMG_8026.jpg&label=0 HTTP/1.1\" 200 -\n"
     ]
    }
   ],
   "source": [
    "werkzeug.serving.run_simple(hostname=\"0.0.0.0\", \n",
    "                            port=8081, \n",
    "                            application=app,\n",
    "                            use_debugger=True)"
   ]
  },
  {
   "cell_type": "code",
   "execution_count": null,
   "id": "4c776d81",
   "metadata": {},
   "outputs": [],
   "source": []
  }
 ],
 "metadata": {
  "kernelspec": {
   "display_name": "Python 3 (ipykernel)",
   "language": "python",
   "name": "python3"
  },
  "language_info": {
   "codemirror_mode": {
    "name": "ipython",
    "version": 3
   },
   "file_extension": ".py",
   "mimetype": "text/x-python",
   "name": "python",
   "nbconvert_exporter": "python",
   "pygments_lexer": "ipython3",
   "version": "3.9.12"
  }
 },
 "nbformat": 4,
 "nbformat_minor": 5
}
